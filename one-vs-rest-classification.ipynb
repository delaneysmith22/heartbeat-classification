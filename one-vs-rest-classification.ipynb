{
 "cells": [
  {
   "cell_type": "code",
   "execution_count": 1,
   "metadata": {
    "_cell_guid": "b1076dfc-b9ad-4769-8c92-a6c4dae69d19",
    "_uuid": "8f2839f25d086af736a60e9eeb907d3b93b6e0e5",
    "execution": {
     "iopub.execute_input": "2020-12-10T23:12:39.125612Z",
     "iopub.status.busy": "2020-12-10T23:12:39.124718Z",
     "iopub.status.idle": "2020-12-10T23:12:45.923572Z",
     "shell.execute_reply": "2020-12-10T23:12:45.922368Z"
    },
    "papermill": {
     "duration": 6.82529,
     "end_time": "2020-12-10T23:12:45.923706",
     "exception": false,
     "start_time": "2020-12-10T23:12:39.098416",
     "status": "completed"
    },
    "tags": []
   },
   "outputs": [],
   "source": [
    "import numpy as np \n",
    "import pandas as pd \n",
    "import numpy as np\n",
    "import pandas as pd\n",
    "import seaborn as sns\n",
    "import matplotlib.pyplot as plt\n",
    "from sklearn.metrics import classification_report\n",
    "from sklearn.model_selection import train_test_split\n",
    "from sklearn.metrics import f1_score\n",
    "from sklearn.metrics import confusion_matrix\n",
    "from sklearn.utils import class_weight\n",
    "from sklearn.utils import shuffle\n",
    "from keras.utils.np_utils import to_categorical\n",
    "import tensorflow as tf"
   ]
  },
  {
   "cell_type": "code",
   "execution_count": 2,
   "metadata": {
    "_cell_guid": "79c7e3d0-c299-4dcb-8224-4455121ee9b0",
    "_uuid": "d629ff2d2480ee46fbb7e2d37f6b5fab8052498a",
    "execution": {
     "iopub.execute_input": "2020-12-10T23:12:45.965052Z",
     "iopub.status.busy": "2020-12-10T23:12:45.964308Z",
     "iopub.status.idle": "2020-12-10T23:12:59.401934Z",
     "shell.execute_reply": "2020-12-10T23:12:59.400721Z"
    },
    "papermill": {
     "duration": 13.462862,
     "end_time": "2020-12-10T23:12:59.402178",
     "exception": false,
     "start_time": "2020-12-10T23:12:45.939316",
     "status": "completed"
    },
    "tags": []
   },
   "outputs": [],
   "source": [
    "# Load Data\n",
    "mit_train_data = pd.read_csv('/kaggle/input/heartbeat/mitbih_train.csv',header=None)\n",
    "mit_test_data = pd.read_csv('/kaggle/input/heartbeat/mitbih_test.csv', header=None)"
   ]
  },
  {
   "cell_type": "code",
   "execution_count": 3,
   "metadata": {
    "execution": {
     "iopub.execute_input": "2020-12-10T23:12:59.442088Z",
     "iopub.status.busy": "2020-12-10T23:12:59.441320Z",
     "iopub.status.idle": "2020-12-10T23:12:59.447382Z",
     "shell.execute_reply": "2020-12-10T23:12:59.447942Z"
    },
    "papermill": {
     "duration": 0.02952,
     "end_time": "2020-12-10T23:12:59.448096",
     "exception": false,
     "start_time": "2020-12-10T23:12:59.418576",
     "status": "completed"
    },
    "tags": []
   },
   "outputs": [
    {
     "data": {
      "text/plain": [
       "(87554, 188)"
      ]
     },
     "execution_count": 3,
     "metadata": {},
     "output_type": "execute_result"
    }
   ],
   "source": [
    "mit_train_data.shape"
   ]
  },
  {
   "cell_type": "code",
   "execution_count": 4,
   "metadata": {
    "execution": {
     "iopub.execute_input": "2020-12-10T23:12:59.486825Z",
     "iopub.status.busy": "2020-12-10T23:12:59.486137Z",
     "iopub.status.idle": "2020-12-10T23:12:59.491962Z",
     "shell.execute_reply": "2020-12-10T23:12:59.492499Z"
    },
    "papermill": {
     "duration": 0.026512,
     "end_time": "2020-12-10T23:12:59.492648",
     "exception": false,
     "start_time": "2020-12-10T23:12:59.466136",
     "status": "completed"
    },
    "tags": []
   },
   "outputs": [
    {
     "data": {
      "text/plain": [
       "(21892, 188)"
      ]
     },
     "execution_count": 4,
     "metadata": {},
     "output_type": "execute_result"
    }
   ],
   "source": [
    "mit_test_data.shape"
   ]
  },
  {
   "cell_type": "code",
   "execution_count": 5,
   "metadata": {
    "execution": {
     "iopub.execute_input": "2020-12-10T23:12:59.534272Z",
     "iopub.status.busy": "2020-12-10T23:12:59.532280Z",
     "iopub.status.idle": "2020-12-10T23:12:59.535043Z",
     "shell.execute_reply": "2020-12-10T23:12:59.535605Z"
    },
    "papermill": {
     "duration": 0.026206,
     "end_time": "2020-12-10T23:12:59.535733",
     "exception": false,
     "start_time": "2020-12-10T23:12:59.509527",
     "status": "completed"
    },
    "tags": []
   },
   "outputs": [],
   "source": [
    "def bin_labels(index,labels):\n",
    "    new_labels = np.copy(labels)\n",
    "    new_labels[new_labels==index]=10\n",
    "    new_labels[new_labels!=10]=0\n",
    "    new_labels[new_labels==10]=1\n",
    "    return new_labels"
   ]
  },
  {
   "cell_type": "code",
   "execution_count": 6,
   "metadata": {
    "execution": {
     "iopub.execute_input": "2020-12-10T23:12:59.579023Z",
     "iopub.status.busy": "2020-12-10T23:12:59.578214Z",
     "iopub.status.idle": "2020-12-10T23:12:59.581520Z",
     "shell.execute_reply": "2020-12-10T23:12:59.582031Z"
    },
    "papermill": {
     "duration": 0.029868,
     "end_time": "2020-12-10T23:12:59.582167",
     "exception": false,
     "start_time": "2020-12-10T23:12:59.552299",
     "status": "completed"
    },
    "tags": []
   },
   "outputs": [],
   "source": [
    "def pre_process(index,data,shuffle=True):\n",
    "    X_train = np.asarray(data.drop(columns=[187]))\n",
    "    y_train = np.asarray(data[187])\n",
    "    y_train = bin_labels(index,y_train)\n",
    "    if shuffle:\n",
    "        indexes = np.arange(int(X_train.shape[0]))\n",
    "        indexes = np.random.RandomState(seed=42).permutation(indexes)  # shuffle data to randomly select\n",
    "        X_train_new = X_train[indexes]\n",
    "        y_train_new= y_train[indexes]\n",
    "    else:\n",
    "        X_train_new = X_train\n",
    "        y_train_new = y_train\n",
    "    y_train_new = y_train_new.astype(int)\n",
    "    y_train_new_cat = to_categorical(y_train_new)\n",
    "    return X_train_new,y_train_new,y_train_new_cat"
   ]
  },
  {
   "cell_type": "markdown",
   "metadata": {
    "papermill": {
     "duration": 0.01689,
     "end_time": "2020-12-10T23:12:59.615947",
     "exception": false,
     "start_time": "2020-12-10T23:12:59.599057",
     "status": "completed"
    },
    "tags": []
   },
   "source": [
    "# Build Model"
   ]
  },
  {
   "cell_type": "code",
   "execution_count": 7,
   "metadata": {
    "execution": {
     "iopub.execute_input": "2020-12-10T23:12:59.658622Z",
     "iopub.status.busy": "2020-12-10T23:12:59.657406Z",
     "iopub.status.idle": "2020-12-10T23:12:59.663084Z",
     "shell.execute_reply": "2020-12-10T23:12:59.662510Z"
    },
    "papermill": {
     "duration": 0.030966,
     "end_time": "2020-12-10T23:12:59.663194",
     "exception": false,
     "start_time": "2020-12-10T23:12:59.632228",
     "status": "completed"
    },
    "tags": []
   },
   "outputs": [],
   "source": [
    "from keras import layers\n",
    "from keras.layers import Dense, Dropout, BatchNormalization, Flatten\n",
    "from keras.layers import Conv1D, GlobalAveragePooling1D, AveragePooling1D\n",
    "from keras.models import Sequential,save_model,load_model\n",
    "from keras import optimizers\n",
    "from keras.callbacks import LearningRateScheduler\n",
    "import tensorflow as tf"
   ]
  },
  {
   "cell_type": "code",
   "execution_count": 8,
   "metadata": {
    "execution": {
     "iopub.execute_input": "2020-12-10T23:12:59.708782Z",
     "iopub.status.busy": "2020-12-10T23:12:59.705072Z",
     "iopub.status.idle": "2020-12-10T23:12:59.711760Z",
     "shell.execute_reply": "2020-12-10T23:12:59.711190Z"
    },
    "papermill": {
     "duration": 0.031885,
     "end_time": "2020-12-10T23:12:59.711885",
     "exception": false,
     "start_time": "2020-12-10T23:12:59.680000",
     "status": "completed"
    },
    "tags": []
   },
   "outputs": [],
   "source": [
    "def build_model():\n",
    "    model = Sequential()\n",
    "    \n",
    "    # Convolutional block 1\n",
    "    model.add(Conv1D(256,2,strides=1,activation = 'relu',input_shape=(187,1)))\n",
    "    model.add(Conv1D(256,2,strides=1,activation = 'relu'))\n",
    "    #model.add(Conv1D(256,2,strides=1,activation = 'relu'))\n",
    "\n",
    "    model.add(BatchNormalization())\n",
    "    model.add(Dropout(0.5))\n",
    "    \n",
    "    # Convolutional block 2\n",
    "    model.add(Conv1D(256,2,strides=1,activation = 'relu'))\n",
    "    model.add(Conv1D(256,2,strides=1,activation = 'relu'))\n",
    "    #model.add(Conv1D(256,2,strides=1,activation = 'relu'))\n",
    "\n",
    "    model.add(BatchNormalization())\n",
    "    model.add(Dropout(0.5))\n",
    "    \n",
    "    model.add(GlobalAveragePooling1D())\n",
    "              \n",
    "    model.add(Dense(128,activation = 'relu'))\n",
    "    \n",
    "    model.add(Dense(2, activation='softmax'))    # now a binary classification problem      \n",
    "    \n",
    "    return model"
   ]
  },
  {
   "cell_type": "code",
   "execution_count": 9,
   "metadata": {
    "execution": {
     "iopub.execute_input": "2020-12-10T23:12:59.751416Z",
     "iopub.status.busy": "2020-12-10T23:12:59.750708Z",
     "iopub.status.idle": "2020-12-10T23:12:59.755533Z",
     "shell.execute_reply": "2020-12-10T23:12:59.754982Z"
    },
    "papermill": {
     "duration": 0.026675,
     "end_time": "2020-12-10T23:12:59.755638",
     "exception": false,
     "start_time": "2020-12-10T23:12:59.728963",
     "status": "completed"
    },
    "tags": []
   },
   "outputs": [],
   "source": [
    "# Fine tunes the learning after the 80th epoch\n",
    "def lr_decay(epoch):\n",
    "    if epoch < 80:\n",
    "        learn_rate = 0.001\n",
    "    else: \n",
    "        learn_rate = 0.0001\n",
    "    return learn_rate"
   ]
  },
  {
   "cell_type": "code",
   "execution_count": 10,
   "metadata": {
    "execution": {
     "iopub.execute_input": "2020-12-10T23:12:59.805316Z",
     "iopub.status.busy": "2020-12-10T23:12:59.803102Z",
     "iopub.status.idle": "2020-12-10T23:12:59.806169Z",
     "shell.execute_reply": "2020-12-10T23:12:59.806904Z"
    },
    "papermill": {
     "duration": 0.033748,
     "end_time": "2020-12-10T23:12:59.807068",
     "exception": false,
     "start_time": "2020-12-10T23:12:59.773320",
     "status": "completed"
    },
    "tags": []
   },
   "outputs": [],
   "source": [
    "\"\"\" Define focal loss function as per \n",
    "    https://www.dlology.com/blog/\n",
    "    multi-class-classification-with-focal-loss-for-imbalanced-datasets/\"\"\" \n",
    "def focal_loss_fnc(gamma,alpha):\n",
    "    \n",
    "    gamma = float(gamma)\n",
    "    alpha = float(alpha)\n",
    "    \n",
    "    def focal_loss_fixed(y_true, y_pred):\n",
    "        \"\"\"Focal loss for multi-classification\n",
    "        FL(p_t)=-alpha(1-p_t)^{gamma}ln(p_t)\n",
    "        Notice: y_pred is probability after softmax\n",
    "        gradient is d(Fl)/d(p_t) not d(Fl)/d(x) as described in paper\n",
    "        d(Fl)/d(p_t) * [p_t(1-p_t)] = d(Fl)/d(x)\n",
    "        Focal Loss for Dense Object Detection\n",
    "        https://arxiv.org/abs/1708.02002\n",
    "\n",
    "        Arguments:\n",
    "            y_true {tensor} -- ground truth labels, shape of [batch_size, num_cls]\n",
    "            y_pred {tensor} -- model's output, shape of [batch_size, num_cls]\n",
    "\n",
    "        Keyword Arguments:\n",
    "            gamma {float} -- (default: {2.0})\n",
    "            alpha {float} -- (default: {4.0})\n",
    "\n",
    "        Returns:\n",
    "            [tensor] -- loss.\n",
    "        \"\"\"\n",
    "        epsilon = 1.e-9\n",
    "        y_true = tf.convert_to_tensor(y_true, tf.float32)\n",
    "        y_pred = tf.convert_to_tensor(y_pred, tf.float32)\n",
    "\n",
    "        model_out = tf.add(y_pred, epsilon)\n",
    "        ce = tf.multiply(y_true, -tf.math.log(model_out))\n",
    "        weight = tf.multiply(y_true, tf.pow(tf.subtract(1., model_out), gamma))\n",
    "        fl = tf.multiply(alpha, tf.multiply(weight, ce))\n",
    "        reduced_fl = tf.reduce_max(fl, axis=1)\n",
    "        return tf.reduce_mean(reduced_fl)\n",
    "    return focal_loss_fixed"
   ]
  },
  {
   "cell_type": "code",
   "execution_count": 11,
   "metadata": {
    "execution": {
     "iopub.execute_input": "2020-12-10T23:12:59.856811Z",
     "iopub.status.busy": "2020-12-10T23:12:59.856020Z",
     "iopub.status.idle": "2020-12-10T23:12:59.859314Z",
     "shell.execute_reply": "2020-12-10T23:12:59.859805Z"
    },
    "papermill": {
     "duration": 0.03504,
     "end_time": "2020-12-10T23:12:59.859955",
     "exception": false,
     "start_time": "2020-12-10T23:12:59.824915",
     "status": "completed"
    },
    "tags": []
   },
   "outputs": [],
   "source": [
    "def train_model(model,X_train,y_train,X_valid,y_valid,filename,n_epochs=100,batch_size=400,\n",
    "                learn_rate=0.001,focal_loss=True,gamma=2,alpha=0.25):\n",
    "    \n",
    "    if focal_loss:\n",
    "        loss = focal_loss_fnc(gamma,alpha) # still need to define\n",
    "        \n",
    "    else:\n",
    "        loss = 'categorical_crossentropy'\n",
    "    \n",
    "    adam = optimizers.Adam(learning_rate=learn_rate)\n",
    "    \n",
    "    # may want to change metrics later\n",
    "    model.compile(optimizer=adam,loss=loss,metrics=['accuracy'])\n",
    "    \n",
    "    # Reduce learning rate to 0.0001 after 80th epoch\n",
    "    callbacks = LearningRateScheduler(lr_decay)\n",
    "        \n",
    "    history = model.fit(X_train,y_train,validation_data=(X_valid,y_valid), epochs=n_epochs,batch_size=batch_size,callbacks=callbacks)\n",
    "    \n",
    "    print(\"\\nEvaluating...\", flush=True)\n",
    "    print('Training data:', flush=True)\n",
    "    loss, acc = model.evaluate(X_train, y_train, verbose=1)\n",
    "    print(\"  Training : loss %.3f - acc %.3f\" % (loss, acc))\n",
    "    \n",
    "    print('Saving model...', flush=True)\n",
    "    save_model(\n",
    "    model,\n",
    "    filename,\n",
    "    overwrite=True,\n",
    "    include_optimizer=True,\n",
    "    save_format=None,\n",
    "    signatures=None,\n",
    "    options=None\n",
    "    )\n",
    "    \n",
    "    return model, history"
   ]
  },
  {
   "cell_type": "markdown",
   "metadata": {
    "papermill": {
     "duration": 0.017998,
     "end_time": "2020-12-10T23:12:59.895851",
     "exception": false,
     "start_time": "2020-12-10T23:12:59.877853",
     "status": "completed"
    },
    "tags": []
   },
   "source": [
    "# 0 vs rest"
   ]
  },
  {
   "cell_type": "code",
   "execution_count": 12,
   "metadata": {
    "execution": {
     "iopub.execute_input": "2020-12-10T23:12:59.936502Z",
     "iopub.status.busy": "2020-12-10T23:12:59.935726Z",
     "iopub.status.idle": "2020-12-10T23:12:59.940990Z",
     "shell.execute_reply": "2020-12-10T23:12:59.940376Z"
    },
    "papermill": {
     "duration": 0.027276,
     "end_time": "2020-12-10T23:12:59.941105",
     "exception": false,
     "start_time": "2020-12-10T23:12:59.913829",
     "status": "completed"
    },
    "tags": []
   },
   "outputs": [],
   "source": [
    "# X_train0, labels0, y_train0 = pre_process(0,mit_train_data)\n",
    "# X_train_new0 = X_train0.reshape(87554,187,1)\n",
    "\n",
    "# X_test0, test_labels0, y_test0 = pre_process(0,mit_test_data,shuffle=False)\n",
    "# X_test_new0 = X_test0.reshape(X_test0.shape[0],187,1)"
   ]
  },
  {
   "cell_type": "code",
   "execution_count": 13,
   "metadata": {
    "execution": {
     "iopub.execute_input": "2020-12-10T23:12:59.985779Z",
     "iopub.status.busy": "2020-12-10T23:12:59.983655Z",
     "iopub.status.idle": "2020-12-10T23:12:59.986681Z",
     "shell.execute_reply": "2020-12-10T23:12:59.987296Z"
    },
    "papermill": {
     "duration": 0.027525,
     "end_time": "2020-12-10T23:12:59.987439",
     "exception": false,
     "start_time": "2020-12-10T23:12:59.959914",
     "status": "completed"
    },
    "tags": []
   },
   "outputs": [],
   "source": [
    "# filename = \"model_0vR\"\n",
    "# model_0vR,history_0vR = train_model(build_model(),\n",
    "#                                     X_train_new0,\n",
    "#                                     y_train0,\n",
    "#                                     X_test_new0,\n",
    "#                                     y_test0,\n",
    "#                                     filename,\n",
    "#                                     focal_loss=True)\n",
    "# hist_df_0vR = pd.DataFrame(history_0vR.history)\n",
    "# hist_df_0vR.to_csv(\"history_0vR.csv\", index=False)"
   ]
  },
  {
   "cell_type": "markdown",
   "metadata": {
    "papermill": {
     "duration": 0.017774,
     "end_time": "2020-12-10T23:13:00.023768",
     "exception": false,
     "start_time": "2020-12-10T23:13:00.005994",
     "status": "completed"
    },
    "tags": []
   },
   "source": [
    "# 1 vs rest"
   ]
  },
  {
   "cell_type": "code",
   "execution_count": 14,
   "metadata": {
    "execution": {
     "iopub.execute_input": "2020-12-10T23:13:00.113256Z",
     "iopub.status.busy": "2020-12-10T23:13:00.112457Z",
     "iopub.status.idle": "2020-12-10T23:13:00.323150Z",
     "shell.execute_reply": "2020-12-10T23:13:00.322488Z"
    },
    "papermill": {
     "duration": 0.281607,
     "end_time": "2020-12-10T23:13:00.323268",
     "exception": false,
     "start_time": "2020-12-10T23:13:00.041661",
     "status": "completed"
    },
    "tags": []
   },
   "outputs": [],
   "source": [
    "X_train1, labels1, y_train1 = pre_process(1,mit_train_data)\n",
    "X_train_new1 = X_train1.reshape(87554,187,1)\n",
    "\n",
    "X_test1, test_labels1, y_test1 = pre_process(1,mit_test_data,shuffle=False)\n",
    "X_test_new1 = X_test1.reshape(X_test1.shape[0],187,1)"
   ]
  },
  {
   "cell_type": "code",
   "execution_count": 15,
   "metadata": {
    "execution": {
     "iopub.execute_input": "2020-12-10T23:13:00.372464Z",
     "iopub.status.busy": "2020-12-10T23:13:00.371428Z",
     "iopub.status.idle": "2020-12-10T23:13:00.378430Z",
     "shell.execute_reply": "2020-12-10T23:13:00.378975Z"
    },
    "papermill": {
     "duration": 0.03712,
     "end_time": "2020-12-10T23:13:00.379122",
     "exception": false,
     "start_time": "2020-12-10T23:13:00.342002",
     "status": "completed"
    },
    "tags": []
   },
   "outputs": [
    {
     "data": {
      "text/plain": [
       "array([0, 0, 0, ..., 0, 0, 0])"
      ]
     },
     "execution_count": 15,
     "metadata": {},
     "output_type": "execute_result"
    }
   ],
   "source": [
    "test_labels1"
   ]
  },
  {
   "cell_type": "code",
   "execution_count": 16,
   "metadata": {
    "execution": {
     "iopub.execute_input": "2020-12-10T23:13:00.423717Z",
     "iopub.status.busy": "2020-12-10T23:13:00.423070Z",
     "iopub.status.idle": "2020-12-10T23:35:57.900248Z",
     "shell.execute_reply": "2020-12-10T23:35:57.898659Z"
    },
    "papermill": {
     "duration": 1377.502108,
     "end_time": "2020-12-10T23:35:57.900390",
     "exception": false,
     "start_time": "2020-12-10T23:13:00.398282",
     "status": "completed"
    },
    "tags": []
   },
   "outputs": [
    {
     "name": "stdout",
     "output_type": "stream",
     "text": [
      "Epoch 1/100\n",
      "219/219 [==============================] - 14s 64ms/step - loss: 0.0081 - accuracy: 0.9740 - val_loss: 0.0096 - val_accuracy: 0.9746\n",
      "Epoch 2/100\n",
      "219/219 [==============================] - 13s 61ms/step - loss: 0.0053 - accuracy: 0.9810 - val_loss: 0.0114 - val_accuracy: 0.9746\n",
      "Epoch 3/100\n",
      "219/219 [==============================] - 13s 61ms/step - loss: 0.0047 - accuracy: 0.9831 - val_loss: 0.0080 - val_accuracy: 0.9819\n",
      "Epoch 4/100\n",
      "219/219 [==============================] - 14s 62ms/step - loss: 0.0046 - accuracy: 0.9839 - val_loss: 0.0057 - val_accuracy: 0.9821\n",
      "Epoch 5/100\n",
      "219/219 [==============================] - 13s 61ms/step - loss: 0.0043 - accuracy: 0.9846 - val_loss: 0.0124 - val_accuracy: 0.9699\n",
      "Epoch 6/100\n",
      "219/219 [==============================] - 13s 61ms/step - loss: 0.0042 - accuracy: 0.9849 - val_loss: 0.0066 - val_accuracy: 0.9829\n",
      "Epoch 7/100\n",
      "219/219 [==============================] - 13s 61ms/step - loss: 0.0041 - accuracy: 0.9852 - val_loss: 0.0055 - val_accuracy: 0.9822\n",
      "Epoch 8/100\n",
      "219/219 [==============================] - 13s 61ms/step - loss: 0.0040 - accuracy: 0.9857 - val_loss: 0.0047 - val_accuracy: 0.9837\n",
      "Epoch 9/100\n",
      "219/219 [==============================] - 14s 63ms/step - loss: 0.0039 - accuracy: 0.9861 - val_loss: 0.0061 - val_accuracy: 0.9791\n",
      "Epoch 10/100\n",
      "219/219 [==============================] - 13s 61ms/step - loss: 0.0038 - accuracy: 0.9863 - val_loss: 0.0065 - val_accuracy: 0.9796\n",
      "Epoch 11/100\n",
      "219/219 [==============================] - 13s 61ms/step - loss: 0.0037 - accuracy: 0.9865 - val_loss: 0.0055 - val_accuracy: 0.9843\n",
      "Epoch 12/100\n",
      "219/219 [==============================] - 13s 61ms/step - loss: 0.0036 - accuracy: 0.9865 - val_loss: 0.0046 - val_accuracy: 0.9859\n",
      "Epoch 13/100\n",
      "219/219 [==============================] - 14s 62ms/step - loss: 0.0036 - accuracy: 0.9868 - val_loss: 0.0071 - val_accuracy: 0.9816\n",
      "Epoch 14/100\n",
      "219/219 [==============================] - 14s 62ms/step - loss: 0.0035 - accuracy: 0.9873 - val_loss: 0.0057 - val_accuracy: 0.9805\n",
      "Epoch 15/100\n",
      "219/219 [==============================] - 13s 61ms/step - loss: 0.0034 - accuracy: 0.9872 - val_loss: 0.0052 - val_accuracy: 0.9826\n",
      "Epoch 16/100\n",
      "219/219 [==============================] - 14s 62ms/step - loss: 0.0034 - accuracy: 0.9875 - val_loss: 0.0082 - val_accuracy: 0.9630\n",
      "Epoch 17/100\n",
      "219/219 [==============================] - 13s 61ms/step - loss: 0.0032 - accuracy: 0.9874 - val_loss: 0.0080 - val_accuracy: 0.9737\n",
      "Epoch 18/100\n",
      "219/219 [==============================] - 14s 64ms/step - loss: 0.0032 - accuracy: 0.9874 - val_loss: 0.0051 - val_accuracy: 0.9835\n",
      "Epoch 19/100\n",
      "219/219 [==============================] - 13s 61ms/step - loss: 0.0031 - accuracy: 0.9877 - val_loss: 0.0039 - val_accuracy: 0.9860\n",
      "Epoch 20/100\n",
      "219/219 [==============================] - 14s 62ms/step - loss: 0.0031 - accuracy: 0.9879 - val_loss: 0.0051 - val_accuracy: 0.9839\n",
      "Epoch 21/100\n",
      "219/219 [==============================] - 13s 61ms/step - loss: 0.0030 - accuracy: 0.9878 - val_loss: 0.0055 - val_accuracy: 0.9826\n",
      "Epoch 22/100\n",
      "219/219 [==============================] - 14s 62ms/step - loss: 0.0031 - accuracy: 0.9878 - val_loss: 0.0041 - val_accuracy: 0.9861\n",
      "Epoch 23/100\n",
      "219/219 [==============================] - 14s 62ms/step - loss: 0.0031 - accuracy: 0.9881 - val_loss: 0.0046 - val_accuracy: 0.9846\n",
      "Epoch 24/100\n",
      "219/219 [==============================] - 13s 61ms/step - loss: 0.0030 - accuracy: 0.9883 - val_loss: 0.0073 - val_accuracy: 0.9791\n",
      "Epoch 25/100\n",
      "219/219 [==============================] - 14s 62ms/step - loss: 0.0030 - accuracy: 0.9885 - val_loss: 0.0123 - val_accuracy: 0.9269\n",
      "Epoch 26/100\n",
      "219/219 [==============================] - 13s 61ms/step - loss: 0.0028 - accuracy: 0.9886 - val_loss: 0.0124 - val_accuracy: 0.9446\n",
      "Epoch 27/100\n",
      "219/219 [==============================] - 14s 62ms/step - loss: 0.0028 - accuracy: 0.9887 - val_loss: 0.0042 - val_accuracy: 0.9858\n",
      "Epoch 28/100\n",
      "219/219 [==============================] - 13s 61ms/step - loss: 0.0028 - accuracy: 0.9886 - val_loss: 0.0052 - val_accuracy: 0.9852\n",
      "Epoch 29/100\n",
      "219/219 [==============================] - 13s 61ms/step - loss: 0.0027 - accuracy: 0.9886 - val_loss: 0.0050 - val_accuracy: 0.9821\n",
      "Epoch 30/100\n",
      "219/219 [==============================] - 14s 62ms/step - loss: 0.0028 - accuracy: 0.9887 - val_loss: 0.0042 - val_accuracy: 0.9852\n",
      "Epoch 31/100\n",
      "219/219 [==============================] - 14s 63ms/step - loss: 0.0027 - accuracy: 0.9890 - val_loss: 0.0100 - val_accuracy: 0.9782\n",
      "Epoch 32/100\n",
      "219/219 [==============================] - 13s 61ms/step - loss: 0.0027 - accuracy: 0.9888 - val_loss: 0.0076 - val_accuracy: 0.9764\n",
      "Epoch 33/100\n",
      "219/219 [==============================] - 13s 62ms/step - loss: 0.0026 - accuracy: 0.9889 - val_loss: 0.0094 - val_accuracy: 0.9621\n",
      "Epoch 34/100\n",
      "219/219 [==============================] - 13s 61ms/step - loss: 0.0026 - accuracy: 0.9893 - val_loss: 0.0051 - val_accuracy: 0.9831\n",
      "Epoch 35/100\n",
      "219/219 [==============================] - 14s 63ms/step - loss: 0.0026 - accuracy: 0.9892 - val_loss: 0.0067 - val_accuracy: 0.9853\n",
      "Epoch 36/100\n",
      "219/219 [==============================] - 13s 62ms/step - loss: 0.0025 - accuracy: 0.9893 - val_loss: 0.0045 - val_accuracy: 0.9843\n",
      "Epoch 37/100\n",
      "219/219 [==============================] - 13s 62ms/step - loss: 0.0026 - accuracy: 0.9895 - val_loss: 0.0055 - val_accuracy: 0.9787\n",
      "Epoch 38/100\n",
      "219/219 [==============================] - 13s 61ms/step - loss: 0.0026 - accuracy: 0.9893 - val_loss: 0.0073 - val_accuracy: 0.9831\n",
      "Epoch 39/100\n",
      "219/219 [==============================] - 13s 61ms/step - loss: 0.0025 - accuracy: 0.9893 - val_loss: 0.0062 - val_accuracy: 0.9763\n",
      "Epoch 40/100\n",
      "219/219 [==============================] - 14s 62ms/step - loss: 0.0024 - accuracy: 0.9895 - val_loss: 0.0048 - val_accuracy: 0.9839\n",
      "Epoch 41/100\n",
      "219/219 [==============================] - 13s 61ms/step - loss: 0.0023 - accuracy: 0.9900 - val_loss: 0.0037 - val_accuracy: 0.9887\n",
      "Epoch 42/100\n",
      "219/219 [==============================] - 13s 61ms/step - loss: 0.0024 - accuracy: 0.9898 - val_loss: 0.0065 - val_accuracy: 0.9788\n",
      "Epoch 43/100\n",
      "219/219 [==============================] - 13s 62ms/step - loss: 0.0024 - accuracy: 0.9898 - val_loss: 0.0033 - val_accuracy: 0.9884\n",
      "Epoch 44/100\n",
      "219/219 [==============================] - 14s 62ms/step - loss: 0.0024 - accuracy: 0.9896 - val_loss: 0.0033 - val_accuracy: 0.9883\n",
      "Epoch 45/100\n",
      "219/219 [==============================] - 13s 61ms/step - loss: 0.0023 - accuracy: 0.9899 - val_loss: 0.0106 - val_accuracy: 0.9530\n",
      "Epoch 46/100\n",
      "219/219 [==============================] - 14s 62ms/step - loss: 0.0023 - accuracy: 0.9900 - val_loss: 0.0032 - val_accuracy: 0.9875\n",
      "Epoch 47/100\n",
      "219/219 [==============================] - 13s 61ms/step - loss: 0.0023 - accuracy: 0.9898 - val_loss: 0.0112 - val_accuracy: 0.9746\n",
      "Epoch 48/100\n",
      "219/219 [==============================] - 13s 61ms/step - loss: 0.0023 - accuracy: 0.9899 - val_loss: 0.0035 - val_accuracy: 0.9872\n",
      "Epoch 49/100\n",
      "219/219 [==============================] - 14s 64ms/step - loss: 0.0022 - accuracy: 0.9903 - val_loss: 0.0059 - val_accuracy: 0.9709\n",
      "Epoch 50/100\n",
      "219/219 [==============================] - 13s 61ms/step - loss: 0.0022 - accuracy: 0.9905 - val_loss: 0.0064 - val_accuracy: 0.9766\n",
      "Epoch 51/100\n",
      "219/219 [==============================] - 13s 61ms/step - loss: 0.0023 - accuracy: 0.9899 - val_loss: 0.0060 - val_accuracy: 0.9760\n",
      "Epoch 52/100\n",
      "219/219 [==============================] - 13s 61ms/step - loss: 0.0022 - accuracy: 0.9903 - val_loss: 0.0038 - val_accuracy: 0.9872\n",
      "Epoch 53/100\n",
      "219/219 [==============================] - 14s 63ms/step - loss: 0.0021 - accuracy: 0.9904 - val_loss: 0.0049 - val_accuracy: 0.9822\n",
      "Epoch 54/100\n",
      "219/219 [==============================] - 14s 62ms/step - loss: 0.0021 - accuracy: 0.9905 - val_loss: 0.0056 - val_accuracy: 0.9727\n",
      "Epoch 55/100\n",
      "219/219 [==============================] - 13s 61ms/step - loss: 0.0021 - accuracy: 0.9908 - val_loss: 0.0052 - val_accuracy: 0.9821\n",
      "Epoch 56/100\n",
      "219/219 [==============================] - 13s 61ms/step - loss: 0.0021 - accuracy: 0.9905 - val_loss: 0.0038 - val_accuracy: 0.9859\n",
      "Epoch 57/100\n",
      "219/219 [==============================] - 13s 61ms/step - loss: 0.0021 - accuracy: 0.9908 - val_loss: 0.0066 - val_accuracy: 0.9715\n",
      "Epoch 58/100\n",
      "219/219 [==============================] - 14s 62ms/step - loss: 0.0021 - accuracy: 0.9909 - val_loss: 0.0066 - val_accuracy: 0.9677\n",
      "Epoch 59/100\n",
      "219/219 [==============================] - 14s 62ms/step - loss: 0.0021 - accuracy: 0.9909 - val_loss: 0.0132 - val_accuracy: 0.9753\n",
      "Epoch 60/100\n",
      "219/219 [==============================] - 13s 61ms/step - loss: 0.0020 - accuracy: 0.9908 - val_loss: 0.0034 - val_accuracy: 0.9860\n",
      "Epoch 61/100\n",
      "219/219 [==============================] - 13s 61ms/step - loss: 0.0020 - accuracy: 0.9911 - val_loss: 0.0030 - val_accuracy: 0.9900\n",
      "Epoch 62/100\n",
      "219/219 [==============================] - 14s 62ms/step - loss: 0.0020 - accuracy: 0.9907 - val_loss: 0.0047 - val_accuracy: 0.9795\n",
      "Epoch 63/100\n",
      "219/219 [==============================] - 13s 62ms/step - loss: 0.0020 - accuracy: 0.9908 - val_loss: 0.0054 - val_accuracy: 0.9868\n",
      "Epoch 64/100\n",
      "219/219 [==============================] - 13s 61ms/step - loss: 0.0020 - accuracy: 0.9910 - val_loss: 0.0138 - val_accuracy: 0.9820\n",
      "Epoch 65/100\n",
      "219/219 [==============================] - 13s 61ms/step - loss: 0.0020 - accuracy: 0.9908 - val_loss: 0.0034 - val_accuracy: 0.9886\n",
      "Epoch 66/100\n",
      "219/219 [==============================] - 13s 61ms/step - loss: 0.0020 - accuracy: 0.9911 - val_loss: 0.0042 - val_accuracy: 0.9864\n",
      "Epoch 67/100\n",
      "219/219 [==============================] - 13s 61ms/step - loss: 0.0020 - accuracy: 0.9911 - val_loss: 0.0054 - val_accuracy: 0.9792\n",
      "Epoch 68/100\n",
      "219/219 [==============================] - 13s 61ms/step - loss: 0.0020 - accuracy: 0.9911 - val_loss: 0.0057 - val_accuracy: 0.9793\n",
      "Epoch 69/100\n",
      "219/219 [==============================] - 13s 62ms/step - loss: 0.0019 - accuracy: 0.9910 - val_loss: 0.0146 - val_accuracy: 0.9454\n",
      "Epoch 70/100\n",
      "219/219 [==============================] - 13s 61ms/step - loss: 0.0019 - accuracy: 0.9914 - val_loss: 0.0048 - val_accuracy: 0.9800\n",
      "Epoch 71/100\n",
      "219/219 [==============================] - 14s 62ms/step - loss: 0.0019 - accuracy: 0.9912 - val_loss: 0.0042 - val_accuracy: 0.9857\n",
      "Epoch 72/100\n",
      "219/219 [==============================] - 14s 62ms/step - loss: 0.0019 - accuracy: 0.9910 - val_loss: 0.0051 - val_accuracy: 0.9836\n",
      "Epoch 73/100\n",
      "219/219 [==============================] - 13s 61ms/step - loss: 0.0018 - accuracy: 0.9916 - val_loss: 0.0061 - val_accuracy: 0.9705\n",
      "Epoch 74/100\n",
      "219/219 [==============================] - 13s 61ms/step - loss: 0.0018 - accuracy: 0.9915 - val_loss: 0.0049 - val_accuracy: 0.9841\n",
      "Epoch 75/100\n",
      "219/219 [==============================] - 14s 62ms/step - loss: 0.0018 - accuracy: 0.9917 - val_loss: 0.0041 - val_accuracy: 0.9869\n",
      "Epoch 76/100\n",
      "219/219 [==============================] - 13s 61ms/step - loss: 0.0018 - accuracy: 0.9915 - val_loss: 0.0039 - val_accuracy: 0.9869\n",
      "Epoch 77/100\n",
      "219/219 [==============================] - 13s 61ms/step - loss: 0.0018 - accuracy: 0.9916 - val_loss: 0.0070 - val_accuracy: 0.9857\n",
      "Epoch 78/100\n",
      "219/219 [==============================] - 13s 61ms/step - loss: 0.0017 - accuracy: 0.9919 - val_loss: 0.0082 - val_accuracy: 0.9840\n",
      "Epoch 79/100\n",
      "219/219 [==============================] - 13s 62ms/step - loss: 0.0018 - accuracy: 0.9916 - val_loss: 0.0082 - val_accuracy: 0.9677\n",
      "Epoch 80/100\n",
      "219/219 [==============================] - 14s 62ms/step - loss: 0.0018 - accuracy: 0.9918 - val_loss: 0.0046 - val_accuracy: 0.9866\n",
      "Epoch 81/100\n",
      "219/219 [==============================] - 13s 61ms/step - loss: 0.0015 - accuracy: 0.9927 - val_loss: 0.0027 - val_accuracy: 0.9911\n",
      "Epoch 82/100\n",
      "219/219 [==============================] - 13s 61ms/step - loss: 0.0015 - accuracy: 0.9927 - val_loss: 0.0028 - val_accuracy: 0.9910\n",
      "Epoch 83/100\n",
      "219/219 [==============================] - 13s 61ms/step - loss: 0.0014 - accuracy: 0.9929 - val_loss: 0.0027 - val_accuracy: 0.9906\n",
      "Epoch 84/100\n",
      "219/219 [==============================] - 14s 63ms/step - loss: 0.0014 - accuracy: 0.9929 - val_loss: 0.0028 - val_accuracy: 0.9908\n",
      "Epoch 85/100\n",
      "219/219 [==============================] - 14s 62ms/step - loss: 0.0014 - accuracy: 0.9931 - val_loss: 0.0028 - val_accuracy: 0.9905\n",
      "Epoch 86/100\n",
      "219/219 [==============================] - 13s 61ms/step - loss: 0.0014 - accuracy: 0.9931 - val_loss: 0.0028 - val_accuracy: 0.9906\n",
      "Epoch 87/100\n",
      "219/219 [==============================] - 13s 61ms/step - loss: 0.0014 - accuracy: 0.9932 - val_loss: 0.0028 - val_accuracy: 0.9905\n",
      "Epoch 88/100\n",
      "219/219 [==============================] - 13s 61ms/step - loss: 0.0014 - accuracy: 0.9930 - val_loss: 0.0028 - val_accuracy: 0.9905\n",
      "Epoch 89/100\n",
      "219/219 [==============================] - 14s 63ms/step - loss: 0.0014 - accuracy: 0.9929 - val_loss: 0.0029 - val_accuracy: 0.9912\n",
      "Epoch 90/100\n",
      "219/219 [==============================] - 13s 61ms/step - loss: 0.0014 - accuracy: 0.9936 - val_loss: 0.0029 - val_accuracy: 0.9910\n",
      "Epoch 91/100\n",
      "219/219 [==============================] - 13s 61ms/step - loss: 0.0014 - accuracy: 0.9934 - val_loss: 0.0028 - val_accuracy: 0.9904\n",
      "Epoch 92/100\n",
      "219/219 [==============================] - 13s 61ms/step - loss: 0.0014 - accuracy: 0.9935 - val_loss: 0.0028 - val_accuracy: 0.9900\n",
      "Epoch 93/100\n",
      "219/219 [==============================] - 13s 62ms/step - loss: 0.0014 - accuracy: 0.9932 - val_loss: 0.0027 - val_accuracy: 0.9910\n",
      "Epoch 94/100\n",
      "219/219 [==============================] - 13s 61ms/step - loss: 0.0013 - accuracy: 0.9933 - val_loss: 0.0028 - val_accuracy: 0.9909\n",
      "Epoch 95/100\n",
      "219/219 [==============================] - 14s 62ms/step - loss: 0.0014 - accuracy: 0.9932 - val_loss: 0.0027 - val_accuracy: 0.9907\n",
      "Epoch 96/100\n",
      "219/219 [==============================] - 13s 61ms/step - loss: 0.0013 - accuracy: 0.9934 - val_loss: 0.0030 - val_accuracy: 0.9907\n",
      "Epoch 97/100\n",
      "219/219 [==============================] - 13s 61ms/step - loss: 0.0013 - accuracy: 0.9932 - val_loss: 0.0029 - val_accuracy: 0.9910\n",
      "Epoch 98/100\n",
      "219/219 [==============================] - 13s 61ms/step - loss: 0.0014 - accuracy: 0.9934 - val_loss: 0.0028 - val_accuracy: 0.9907\n",
      "Epoch 99/100\n",
      "219/219 [==============================] - 13s 61ms/step - loss: 0.0013 - accuracy: 0.9932 - val_loss: 0.0031 - val_accuracy: 0.9906\n",
      "Epoch 100/100\n",
      "219/219 [==============================] - 13s 61ms/step - loss: 0.0013 - accuracy: 0.9932 - val_loss: 0.0028 - val_accuracy: 0.9907\n",
      "\n",
      "Evaluating...\n",
      "Training data:\n",
      "2737/2737 [==============================] - 11s 4ms/step - loss: 9.6520e-04 - accuracy: 0.9946\n",
      "  Training : loss 0.001 - acc 0.995\n",
      "Saving model...\n"
     ]
    }
   ],
   "source": [
    "filename = \"model_1vR\"\n",
    "model_1vR,history_1vR = train_model(build_model(),\n",
    "                                    X_train_new1,\n",
    "                                    y_train1,\n",
    "                                    X_test_new1,\n",
    "                                    y_test1,\n",
    "                                    filename,\n",
    "                                    focal_loss=True)\n",
    "hist_df_1vR = pd.DataFrame(history_1vR.history)\n",
    "hist_df_1vR.to_csv(\"history_1vR.csv\", index=False)"
   ]
  },
  {
   "cell_type": "code",
   "execution_count": null,
   "metadata": {
    "papermill": {
     "duration": 9.17764,
     "end_time": "2020-12-10T23:36:16.952270",
     "exception": false,
     "start_time": "2020-12-10T23:36:07.774630",
     "status": "completed"
    },
    "tags": []
   },
   "outputs": [],
   "source": []
  }
 ],
 "metadata": {
  "kernelspec": {
   "display_name": "Python 3",
   "language": "python",
   "name": "python3"
  },
  "language_info": {
   "codemirror_mode": {
    "name": "ipython",
    "version": 3
   },
   "file_extension": ".py",
   "mimetype": "text/x-python",
   "name": "python",
   "nbconvert_exporter": "python",
   "pygments_lexer": "ipython3",
   "version": "3.7.6"
  },
  "papermill": {
   "duration": 1434.171751,
   "end_time": "2020-12-10T23:36:28.293154",
   "environment_variables": {},
   "exception": null,
   "input_path": "__notebook__.ipynb",
   "output_path": "__notebook__.ipynb",
   "parameters": {},
   "start_time": "2020-12-10T23:12:34.121403",
   "version": "2.1.0"
  }
 },
 "nbformat": 4,
 "nbformat_minor": 4
}
